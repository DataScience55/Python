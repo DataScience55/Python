{
 "cells": [
  {
   "cell_type": "markdown",
   "metadata": {},
   "source": [
    "# Print statement"
   ]
  },
  {
   "cell_type": "code",
   "execution_count": 2,
   "metadata": {},
   "outputs": [
    {
     "name": "stdout",
     "output_type": "stream",
     "text": [
      "Hello world\n",
      "Hello world\n",
      "\n",
      "5\n",
      "25\n"
     ]
    }
   ],
   "source": [
    "print(\"Hello world\")\n",
    "print('Hello world')\n",
    "print()\n",
    "print(2+3)\n",
    "print(5*5)"
   ]
  },
  {
   "cell_type": "markdown",
   "metadata": {},
   "source": [
    "# String"
   ]
  },
  {
   "cell_type": "code",
   "execution_count": 3,
   "metadata": {},
   "outputs": [
    {
     "name": "stdout",
     "output_type": "stream",
     "text": [
      "Jay\n",
      "<class 'str'>\n"
     ]
    }
   ],
   "source": [
    "name = \"Jay\"\n",
    "print(name)\n",
    "print(type(name))"
   ]
  },
  {
   "cell_type": "code",
   "execution_count": 5,
   "metadata": {},
   "outputs": [
    {
     "name": "stdout",
     "output_type": "stream",
     "text": [
      "Enter your name : Jay\n",
      "Hi Jay, how are you?\n"
     ]
    }
   ],
   "source": [
    "name_1 = input(\"Enter your name : \")\n",
    "print(f\"Hi {name}, how are you?\")"
   ]
  },
  {
   "cell_type": "code",
   "execution_count": 19,
   "metadata": {},
   "outputs": [
    {
     "name": "stdout",
     "output_type": "stream",
     "text": [
      "The price of success is hard work,\n",
      "dedication to the job at hand, \n",
      "and the determination that whether we win or lose, \n",
      "we have applied the best of ourselves to the task at hand\n",
      "\n",
      "\n",
      "The price of success is hard work,\n",
      "\t\tdedication to the job at hand, \n",
      "and the determination that whether we win or lose, \n",
      "\t\twe have applied the best of ourselves to the task at hand\n",
      "\n",
      "\n",
      "The price of success is hard work, \n",
      "dedication to the job at hand, \n",
      "and the determination that whether we win or lose, \n",
      "we have applied the best of ourselves to the task at hand\n"
     ]
    }
   ],
   "source": [
    "# Escape character \n",
    "\n",
    "statement = \"The price of success is hard work,\\ndedication to the job at hand, \\nand the determination that whether we win or lose, \\nwe have applied the best of ourselves to the task at hand\"\n",
    "print(statement)\n",
    "\n",
    "print()\n",
    "print()\n",
    "\n",
    "statement_1 = \"The price of success is hard work,\\n\\t\\tdedication to the job at hand, \\nand the determination that whether we win or lose, \\n\\t\\twe have applied the best of ourselves to the task at hand\"\n",
    "print(statement_1)\n",
    "\n",
    "print()\n",
    "print()\n",
    "\n",
    "statement_2 = \"\"\"The price of success is hard work, \n",
    "dedication to the job at hand, \n",
    "and the determination that whether we win or lose, \n",
    "we have applied the best of ourselves to the task at hand\"\"\"\n",
    "print(statement_2)"
   ]
  },
  {
   "cell_type": "code",
   "execution_count": 18,
   "metadata": {},
   "outputs": [
    {
     "name": "stdout",
     "output_type": "stream",
     "text": [
      "Hi, I'm Jay\n",
      "\n",
      "Hi, I'm Jay\n",
      "\n",
      "Hi, I'm Jay\n"
     ]
    }
   ],
   "source": [
    "escape = 'Hi, I\\'m Jay'\n",
    "print(escape)\n",
    "print()\n",
    "escape_1 = \"Hi, I\\'m Jay\"\n",
    "print(escape_1)\n",
    "print()\n",
    "escape_2 = \"\"\"Hi, I'm Jay\"\"\"\n",
    "print(escape_2)\n"
   ]
  },
  {
   "cell_type": "code",
   "execution_count": 20,
   "metadata": {},
   "outputs": [
    {
     "name": "stdout",
     "output_type": "stream",
     "text": [
      "C:\\Users\\tamil\\name.txt\n",
      "\n",
      "C:\\Users\\tamil\\name.txt\n"
     ]
    }
   ],
   "source": [
    "# How to print \\ in the print statement/sentence - \"C:\\Users\\tamil\\name.txt\"\n",
    "\n",
    "back_sl = \"C:\\\\Users\\\\tamil\\\\name.txt\"\n",
    "print(back_sl)\n",
    "\n",
    "print()\n",
    "\n",
    "back_slh = r\"C:\\Users\\tamil\\name.txt\"\n",
    "print(back_slh)"
   ]
  },
  {
   "cell_type": "markdown",
   "metadata": {},
   "source": [
    "# Variables and Types"
   ]
  },
  {
   "cell_type": "code",
   "execution_count": 21,
   "metadata": {},
   "outputs": [
    {
     "name": "stdout",
     "output_type": "stream",
     "text": [
      "<class 'str'>\n",
      "<class 'int'>\n",
      "<class 'float'>\n"
     ]
    }
   ],
   "source": [
    "name = \"Jay\"\n",
    "age = 31\n",
    "height = 1.7\n",
    "\n",
    "print(type(name))\n",
    "print(type(age))\n",
    "print(type(height))"
   ]
  },
  {
   "cell_type": "code",
   "execution_count": 22,
   "metadata": {},
   "outputs": [
    {
     "name": "stdout",
     "output_type": "stream",
     "text": [
      "Enter your name : Jay\n",
      "Jay\n",
      "<class 'str'>\n"
     ]
    }
   ],
   "source": [
    "# Type casting\n",
    "\n",
    "name = input(\"Enter your name : \")\n",
    "print(name)\n",
    "print(type(name))"
   ]
  },
  {
   "cell_type": "code",
   "execution_count": 27,
   "metadata": {},
   "outputs": [
    {
     "name": "stdout",
     "output_type": "stream",
     "text": [
      "Enter your age : 30\n",
      "30\n",
      "<class 'int'>\n",
      "\n",
      "Enter your Height : 2\n",
      "2.0\n",
      "<class 'float'>\n"
     ]
    }
   ],
   "source": [
    "age = int(input(\"Enter your age : \"))\n",
    "print(age)\n",
    "print(type(age))\n",
    "\n",
    "print()\n",
    "\n",
    "height = float(input(\"Enter your Height : \"))\n",
    "print(height)\n",
    "print(type(height))"
   ]
  },
  {
   "cell_type": "code",
   "execution_count": 32,
   "metadata": {},
   "outputs": [
    {
     "name": "stdout",
     "output_type": "stream",
     "text": [
      "Jay Krish\n",
      "\n",
      "My name is Jay and My age is 30\n"
     ]
    }
   ],
   "source": [
    "# String Concatenating \n",
    "\n",
    "name = \"Jay\"\n",
    "name_1 = \"Krish\"\n",
    "print(name + \" \" + name_1)\n",
    "\n",
    "print()\n",
    "\n",
    "# Type Casting\n",
    "\n",
    "name = \"Jay\"\n",
    "age = 30\n",
    "print(\"My name is\", name + \" \" + \"and My age is\", age)\n"
   ]
  },
  {
   "cell_type": "code",
   "execution_count": 33,
   "metadata": {},
   "outputs": [
    {
     "name": "stdout",
     "output_type": "stream",
     "text": [
      "80\n",
      "30\n",
      "1375\n",
      "2.2\n",
      "2\n",
      "5\n"
     ]
    }
   ],
   "source": [
    "# Numeric Operators (Int, Float, Complex)\n",
    "\n",
    "a = 55\n",
    "b = 25\n",
    "\n",
    "print(a+b)\n",
    "print(a-b)\n",
    "print(a*b)\n",
    "print(a/b)\n",
    "print(a//b)\n",
    "print(a%b)"
   ]
  },
  {
   "cell_type": "code",
   "execution_count": 38,
   "metadata": {},
   "outputs": [
    {
     "name": "stdout",
     "output_type": "stream",
     "text": [
      "n\n",
      " \n",
      "s\n",
      "p\n",
      "\n",
      "Backwards slicing\n",
      " \n",
      "l\n",
      "m\n",
      " \n"
     ]
    }
   ],
   "source": [
    "sentance = \"Nothing is particularly hard if you divide it into small jobs\"\n",
    "\n",
    "print(sentance[5])\n",
    "print(sentance[7])\n",
    "print(sentance[9])\n",
    "print(sentance[11])\n",
    "\n",
    "print()\n",
    "print(\"Backwards slicing\")\n",
    "print(sentance[-5])\n",
    "print(sentance[-7])\n",
    "print(sentance[-9])\n",
    "print(sentance[-11])"
   ]
  },
  {
   "cell_type": "code",
   "execution_count": 39,
   "metadata": {},
   "outputs": [
    {
     "name": "stdout",
     "output_type": "stream",
     "text": [
      "ng is particularly h\n",
      "is particularly hard if you divide it into small jobs\n",
      "Nothing is part\n",
      "niptur \n"
     ]
    }
   ],
   "source": [
    "print(sentance[5:25])\n",
    "print(sentance[8:])\n",
    "print(sentance[:15])\n",
    "print(sentance[5:25:3])"
   ]
  },
  {
   "cell_type": "code",
   "execution_count": 40,
   "metadata": {},
   "outputs": [
    {
     "name": "stdout",
     "output_type": "stream",
     "text": [
      "\n",
      "all jobs\n",
      "Nothing is particularly hard if you divide it \n",
      "\n"
     ]
    }
   ],
   "source": [
    "print(sentance[-5:-25])\n",
    "print(sentance[-8:])\n",
    "print(sentance[:-15])\n",
    "print(sentance[-5:-25:3])"
   ]
  },
  {
   "cell_type": "code",
   "execution_count": 43,
   "metadata": {},
   "outputs": [
    {
     "name": "stdout",
     "output_type": "stream",
     "text": [
      "nanhsirkamarayaJ\n",
      "nanh\n"
     ]
    }
   ],
   "source": [
    "# Reversing \n",
    "\n",
    "name = \"Jayaramakrishnan\"\n",
    "print(name[::-1])\n",
    "print(name[-1:-5:-1])"
   ]
  },
  {
   "cell_type": "code",
   "execution_count": 47,
   "metadata": {},
   "outputs": [
    {
     "name": "stdout",
     "output_type": "stream",
     "text": [
      "My age is 30Years\n",
      "\n",
      "My age is 30 years\n",
      "\n",
      "There are 31 days in Jan, March, May, July, Aug, Oct and Dec\n"
     ]
    }
   ],
   "source": [
    "age = 30\n",
    "print(\"My age is \" + str(age) + \"Years\")\n",
    "print()\n",
    "print(\"My age is {0} years\".format(age))\n",
    "print()\n",
    "\n",
    "print(\"There are {0} days in {1}, {2}, {3}, {4}, {5}, {6} and {7}\"\n",
    "     .format(31, \"Jan\", \"March\", \"May\", \"July\", \"Aug\", \"Oct\", \"Dec\"))"
   ]
  },
  {
   "cell_type": "code",
   "execution_count": 48,
   "metadata": {},
   "outputs": [
    {
     "name": "stdout",
     "output_type": "stream",
     "text": [
      "My name is Jay and my age 30\n"
     ]
    }
   ],
   "source": [
    "# F string\n",
    "\n",
    "name = \"Jay\"\n",
    "age = 30\n",
    "\n",
    "print(f\"My name is {name} and my age {age}\")"
   ]
  },
  {
   "cell_type": "markdown",
   "metadata": {},
   "source": [
    "# Conditional Statements "
   ]
  },
  {
   "cell_type": "code",
   "execution_count": 54,
   "metadata": {},
   "outputs": [
    {
     "name": "stdout",
     "output_type": "stream",
     "text": [
      "Enter your name : Jay\n",
      "Enter your age : 21\n",
      "You are eligible to vote!\n"
     ]
    }
   ],
   "source": [
    "# IF statement\n",
    "\n",
    "name = input(\"Enter your name : \")\n",
    "age = int(input(\"Enter your age : \"))\n",
    "\n",
    "print()\n",
    "\n",
    "if age>= 18:\n",
    "    print(\"You are eligible to vote!\")\n",
    "else:\n",
    "    print(\"You are not eligible to vote!\")"
   ]
  },
  {
   "cell_type": "code",
   "execution_count": 59,
   "metadata": {},
   "outputs": [
    {
     "name": "stdout",
     "output_type": "stream",
     "text": [
      "Enter your name : Jay\n",
      "Enter your age : 61\n",
      "\n",
      "You have to buy Senior Citizen ticket!\n"
     ]
    }
   ],
   "source": [
    "# ELIF statement\n",
    "# Exaple - 1\n",
    "\n",
    "name = input(\"Enter your name : \")\n",
    "age = int(input(\"Enter your age : \"))\n",
    "\n",
    "print()\n",
    "\n",
    "if age <= 12:\n",
    "    print(\"Hi {}, You are eligible to buy Child ticket!\".format(name))\n",
    "elif age <= 19:\n",
    "    print(\"You are eligible to buy Teen ticket!\".format(name))\n",
    "elif age <= 60:\n",
    "    print(\"You have to buy Adult ticket!\".format(name))\n",
    "else:\n",
    "    print(\"You have to buy Senior Citizen ticket!\".format(name))"
   ]
  },
  {
   "cell_type": "code",
   "execution_count": null,
   "metadata": {},
   "outputs": [],
   "source": []
  },
  {
   "cell_type": "code",
   "execution_count": null,
   "metadata": {},
   "outputs": [],
   "source": []
  }
 ],
 "metadata": {
  "kernelspec": {
   "display_name": "Python 3",
   "language": "python",
   "name": "python3"
  },
  "language_info": {
   "codemirror_mode": {
    "name": "ipython",
    "version": 3
   },
   "file_extension": ".py",
   "mimetype": "text/x-python",
   "name": "python",
   "nbconvert_exporter": "python",
   "pygments_lexer": "ipython3",
   "version": "3.7.4"
  }
 },
 "nbformat": 4,
 "nbformat_minor": 2
}
